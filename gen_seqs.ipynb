{
 "cells": [
  {
   "cell_type": "code",
   "execution_count": 2,
   "metadata": {},
   "outputs": [],
   "source": [
    "import random\n",
    "\n",
    "def generate_dna_sequences(N, L, file_name=None):\n",
    "    bases = 'ACGT'\n",
    "    sequences = [''.join(random.choices(bases, k=L)) for _ in range(N)]\n",
    "    output = f\"{N} {L}\\n\" + \"\\n\".join(sequences)\n",
    "    if file_name:\n",
    "        with open(file_name, 'w') as file:\n",
    "            file.write(output)\n",
    "    else:\n",
    "        print(output)"
   ]
  },
  {
   "cell_type": "code",
   "execution_count": 3,
   "metadata": {},
   "outputs": [],
   "source": [
    "base_num_seqs = 100\n",
    "base_seqs_len = 2000"
   ]
  },
  {
   "cell_type": "code",
   "execution_count": 5,
   "metadata": {},
   "outputs": [],
   "source": [
    "# use this for kmer and num iteration scaling calculations \n",
    "generate_dna_sequences(base_num_seqs, base_seqs_len, \"base-data-file.txt\")"
   ]
  },
  {
   "cell_type": "code",
   "execution_count": 6,
   "metadata": {},
   "outputs": [],
   "source": [
    "# use these for checking the scalability for long sequences\n",
    "for i in range(0, 5):\n",
    "    mult = pow(2, i)\n",
    "    generate_dna_sequences(base_num_seqs, base_seqs_len * mult, f\"mult-{str(mult)}-seq-len-input-sequences.txt\")"
   ]
  },
  {
   "cell_type": "code",
   "execution_count": 7,
   "metadata": {},
   "outputs": [],
   "source": [
    "# use these for checking the scalability for many sequences\n",
    "for i in range(0, 5):\n",
    "    mult = pow(2, i)\n",
    "    generate_dna_sequences(base_num_seqs * mult, base_seqs_len, f\"mult-{str(mult)}-num-seqs-input-sequences.txt\")"
   ]
  },
  {
   "cell_type": "code",
   "execution_count": 4,
   "metadata": {},
   "outputs": [],
   "source": [
    "# used to test runtime for many sequences\n",
    "generate_dna_sequences(10000, base_seqs_len, \"a-buncha-seqs.txt\")"
   ]
  },
  {
   "cell_type": "code",
   "execution_count": null,
   "metadata": {},
   "outputs": [],
   "source": []
  }
 ],
 "metadata": {
  "kernelspec": {
   "display_name": "Python 3",
   "language": "python",
   "name": "python3"
  },
  "language_info": {
   "codemirror_mode": {
    "name": "ipython",
    "version": 3
   },
   "file_extension": ".py",
   "mimetype": "text/x-python",
   "name": "python",
   "nbconvert_exporter": "python",
   "pygments_lexer": "ipython3",
   "version": "3.10.12"
  }
 },
 "nbformat": 4,
 "nbformat_minor": 2
}
